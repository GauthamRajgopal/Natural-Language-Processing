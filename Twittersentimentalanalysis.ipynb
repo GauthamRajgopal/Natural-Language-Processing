{
  "nbformat": 4,
  "nbformat_minor": 0,
  "metadata": {
    "colab": {
      "name": "Twittersentimentalanalysis.ipynb",
      "provenance": [],
      "collapsed_sections": [],
      "authorship_tag": "ABX9TyNac3hlR+k2zAZQC0Qmo9fC",
      "include_colab_link": true
    },
    "kernelspec": {
      "name": "python3",
      "display_name": "Python 3"
    }
  },
  "cells": [
    {
      "cell_type": "markdown",
      "metadata": {
        "id": "view-in-github",
        "colab_type": "text"
      },
      "source": [
        "<a href=\"https://colab.research.google.com/github/GauthamRajgopal/Natural-Language-Processing/blob/master/Twittersentimentalanalysis.ipynb\" target=\"_parent\"><img src=\"https://colab.research.google.com/assets/colab-badge.svg\" alt=\"Open In Colab\"/></a>"
      ]
    },
    {
      "cell_type": "markdown",
      "metadata": {
        "id": "ysr-QRg8SwUo",
        "colab_type": "text"
      },
      "source": [
        "Problem Definition\n",
        "\n",
        "Given Tweets Data, The task is to deterine whether a tweet contains positive,Negative, Neutral sentiments\n",
        "\n",
        "As we are aiming to analyse the sentiment analysis, Hence this is a Twitter Sentimental Analysis\n",
        "\n",
        "Sentimental Analysis is a process of determine whether a piece of writing is positive, negative or Neutral, Also refered to as opinion mining"
      ]
    },
    {
      "cell_type": "markdown",
      "metadata": {
        "id": "wz0o5R0bPIpR",
        "colab_type": "text"
      },
      "source": [
        "Steps involved in Twitter Sentimental Analysis\n",
        "\n",
        "1.Import necessary files required\n",
        "\n",
        "2.Import & Visualize Twets data (Label charts,Observations Frequency chart, Observations Word cloud & Sentiement Distribution in Tweet data)\n",
        "\n",
        "3.Data Preprocessing\n",
        "\n",
        "4.Lexicon model\n",
        "\n",
        "5.Vectorizing our data set using TF-IDF\n",
        "\n",
        "6.Random forest model\n",
        "\n",
        "7.Naive bayes model\n",
        "\n",
        "8.Topic modeling\n",
        "\n",
        "9.Model/Algorithm Comparison"
      ]
    },
    {
      "cell_type": "markdown",
      "metadata": {
        "id": "pAmnxLgJKDa6",
        "colab_type": "text"
      },
      "source": [
        "**1.   Import necessary files required**"
      ]
    },
    {
      "cell_type": "code",
      "metadata": {
        "id": "1OPRfEUo3IDr",
        "colab_type": "code",
        "outputId": "08f6262c-2710-43fb-852b-d33721bf8e2b",
        "colab": {
          "base_uri": "https://localhost:8080/",
          "height": 71
        }
      },
      "source": [
        "import re\n",
        "import pandas as pd \n",
        "import numpy as np \n",
        "import matplotlib.pyplot as plt \n",
        "import seaborn as sns\n",
        "import string\n",
        "import nltk\n",
        "import warnings \n",
        "warnings.filterwarnings(\"ignore\", category=DeprecationWarning)\n",
        "\n",
        "%matplotlib inline"
      ],
      "execution_count": 0,
      "outputs": [
        {
          "output_type": "stream",
          "text": [
            "/usr/local/lib/python3.6/dist-packages/statsmodels/tools/_testing.py:19: FutureWarning: pandas.util.testing is deprecated. Use the functions in the public API at pandas.testing instead.\n",
            "  import pandas.util.testing as tm\n"
          ],
          "name": "stderr"
        }
      ]
    },
    {
      "cell_type": "code",
      "metadata": {
        "id": "aJvCv0-L8mAA",
        "colab_type": "code",
        "colab": {}
      },
      "source": [
        "#Magic Command to print mulitple statements in single command \n",
        "from IPython.core.interactiveshell import InteractiveShell\n",
        "InteractiveShell.ast_node_interactivity=\"all\""
      ],
      "execution_count": 0,
      "outputs": []
    },
    {
      "cell_type": "code",
      "metadata": {
        "id": "pS53USYb8rQ4",
        "colab_type": "code",
        "outputId": "54f6a41f-af7e-4a4d-d645-a9437b0f5b16",
        "colab": {
          "base_uri": "https://localhost:8080/",
          "height": 170
        }
      },
      "source": [
        "data=pd.read_excel('/content/Tweets_Infotainment_DashCam_15Oct2019.xlsx')\n",
        "data.info()"
      ],
      "execution_count": 0,
      "outputs": [
        {
          "output_type": "stream",
          "text": [
            "<class 'pandas.core.frame.DataFrame'>\n",
            "RangeIndex: 207 entries, 0 to 206\n",
            "Data columns (total 2 columns):\n",
            " #   Column    Non-Null Count  Dtype \n",
            "---  ------    --------------  ----- \n",
            " 0   Tweets    207 non-null    object\n",
            " 1   Category  207 non-null    object\n",
            "dtypes: object(2)\n",
            "memory usage: 3.4+ KB\n"
          ],
          "name": "stdout"
        }
      ]
    },
    {
      "cell_type": "code",
      "metadata": {
        "id": "WrySeozh9EXo",
        "colab_type": "code",
        "outputId": "9f717f24-1e7e-4e79-df64-fd4481199ccc",
        "colab": {
          "base_uri": "https://localhost:8080/",
          "height": 51
        }
      },
      "source": [
        "print('Dataset size:',data.shape)\n",
        "print('Columns are:',data.columns)"
      ],
      "execution_count": 0,
      "outputs": [
        {
          "output_type": "stream",
          "text": [
            "Dataset size: (207, 2)\n",
            "Columns are: Index(['Tweets', 'Category'], dtype='object')\n"
          ],
          "name": "stdout"
        }
      ]
    },
    {
      "cell_type": "code",
      "metadata": {
        "id": "bI0f9vFz9FJD",
        "colab_type": "code",
        "outputId": "9f21346f-ffaa-41f4-9286-f13df6711656",
        "colab": {
          "base_uri": "https://localhost:8080/",
          "height": 221
        }
      },
      "source": [
        "data.head()\n",
        "print(len(data))"
      ],
      "execution_count": 0,
      "outputs": [
        {
          "output_type": "execute_result",
          "data": {
            "text/html": [
              "<div>\n",
              "<style scoped>\n",
              "    .dataframe tbody tr th:only-of-type {\n",
              "        vertical-align: middle;\n",
              "    }\n",
              "\n",
              "    .dataframe tbody tr th {\n",
              "        vertical-align: top;\n",
              "    }\n",
              "\n",
              "    .dataframe thead th {\n",
              "        text-align: right;\n",
              "    }\n",
              "</style>\n",
              "<table border=\"1\" class=\"dataframe\">\n",
              "  <thead>\n",
              "    <tr style=\"text-align: right;\">\n",
              "      <th></th>\n",
              "      <th>Tweets</th>\n",
              "      <th>Category</th>\n",
              "    </tr>\n",
              "  </thead>\n",
              "  <tbody>\n",
              "    <tr>\n",
              "      <th>0</th>\n",
              "      <td>Our Top Pick of The Best Parking Mode Dash Cam...</td>\n",
              "      <td>Positive</td>\n",
              "    </tr>\n",
              "    <tr>\n",
              "      <th>1</th>\n",
              "      <td>Still watching #Russian #dashcam compilations ...</td>\n",
              "      <td>Neutral</td>\n",
              "    </tr>\n",
              "    <tr>\n",
              "      <th>2</th>\n",
              "      <td>Check out this great travel dash cam for your ...</td>\n",
              "      <td>Positive</td>\n",
              "    </tr>\n",
              "    <tr>\n",
              "      <th>3</th>\n",
              "      <td>Shortcut! #trafficcircle #dashcam https://t.co...</td>\n",
              "      <td>Neutral</td>\n",
              "    </tr>\n",
              "    <tr>\n",
              "      <th>4</th>\n",
              "      <td>Our DMS alarms include:①Closed Eyes②Yawning③In...</td>\n",
              "      <td>Neutral</td>\n",
              "    </tr>\n",
              "  </tbody>\n",
              "</table>\n",
              "</div>"
            ],
            "text/plain": [
              "                                              Tweets  Category\n",
              "0  Our Top Pick of The Best Parking Mode Dash Cam...  Positive\n",
              "1  Still watching #Russian #dashcam compilations ...   Neutral\n",
              "2  Check out this great travel dash cam for your ...  Positive\n",
              "3  Shortcut! #trafficcircle #dashcam https://t.co...   Neutral\n",
              "4  Our DMS alarms include:①Closed Eyes②Yawning③In...   Neutral"
            ]
          },
          "metadata": {
            "tags": []
          },
          "execution_count": 5
        },
        {
          "output_type": "stream",
          "text": [
            "207\n"
          ],
          "name": "stdout"
        }
      ]
    },
    {
      "cell_type": "code",
      "metadata": {
        "id": "vnM8-GZe9KBN",
        "colab_type": "code",
        "outputId": "6487f29e-824d-4459-90a4-3fc960d23384",
        "colab": {
          "base_uri": "https://localhost:8080/",
          "height": 85
        }
      },
      "source": [
        "# examine the class distribution\n",
        "data.Category.value_counts().sort_index()"
      ],
      "execution_count": 0,
      "outputs": [
        {
          "output_type": "execute_result",
          "data": {
            "text/plain": [
              "Negative     21\n",
              "Neutral      71\n",
              "Positive    115\n",
              "Name: Category, dtype: int64"
            ]
          },
          "metadata": {
            "tags": []
          },
          "execution_count": 6
        }
      ]
    },
    {
      "cell_type": "markdown",
      "metadata": {
        "id": "JPX0S0I4KiBH",
        "colab_type": "text"
      },
      "source": [
        "\n",
        "**2.   Visualize Imported Data**\n",
        "\n"
      ]
    },
    {
      "cell_type": "code",
      "metadata": {
        "id": "bXHZq61f9OIO",
        "colab_type": "code",
        "outputId": "d279d7b1-812b-4d80-e9ae-aff2b4e77b81",
        "colab": {
          "base_uri": "https://localhost:8080/",
          "height": 299
        }
      },
      "source": [
        "sns.countplot(x = 'Category', data = data)"
      ],
      "execution_count": 0,
      "outputs": [
        {
          "output_type": "execute_result",
          "data": {
            "text/plain": [
              "<matplotlib.axes._subplots.AxesSubplot at 0x7fe797718438>"
            ]
          },
          "metadata": {
            "tags": []
          },
          "execution_count": 7
        },
        {
          "output_type": "display_data",
          "data": {
            "image/png": "[encoded data removed]",
            "text/plain": [
              "<Figure size 432x288 with 1 Axes>"
            ]
          },
          "metadata": {
            "tags": [],
            "needs_background": "light"
          }
        }
      ]
    },
    {
      "cell_type": "code",
      "metadata": {
        "id": "7jgoaLyt9RCs",
        "colab_type": "code",
        "outputId": "fd3789a0-042b-4ed8-b7eb-2d931b0e17b1",
        "colab": {
          "base_uri": "https://localhost:8080/",
          "height": 51
        }
      },
      "source": [
        "plot_size = plt.rcParams[\"figure.figsize\"] \n",
        "print(plot_size[0]) \n",
        "print(plot_size[1])\n",
        "\n",
        "plot_size[0] = 8\n",
        "plot_size[1] = 6\n",
        "plt.rcParams[\"figure.figsize\"] = plot_size "
      ],
      "execution_count": 0,
      "outputs": [
        {
          "output_type": "stream",
          "text": [
            "6.0\n",
            "4.0\n"
          ],
          "name": "stdout"
        }
      ]
    },
    {
      "cell_type": "code",
      "metadata": {
        "id": "fCczsXa99UHg",
        "colab_type": "code",
        "outputId": "63931d3b-4004-4608-9316-b164bcc05f27",
        "colab": {
          "base_uri": "https://localhost:8080/",
          "height": 374
        }
      },
      "source": [
        "data.Category.value_counts().plot(kind='pie', autopct='%1.0f%%', colors=[\"red\", \"yellow\", \"green\"])                                                            "
      ],
      "execution_count": 0,
      "outputs": [
        {
          "output_type": "execute_result",
          "data": {
            "text/plain": [
              "<matplotlib.axes._subplots.AxesSubplot at 0x7fe7971d5358>"
            ]
          },
          "metadata": {
            "tags": []
          },
          "execution_count": 9
        },
        {
          "output_type": "display_data",
          "data": {
            "image/png": "[encoded data removed]",
            "text/plain": [
              "<Figure size 576x432 with 1 Axes>"
            ]
          },
          "metadata": {
            "tags": []
          }
        }
      ]
    },
    {
      "cell_type": "code",
      "metadata": {
        "id": "fr_9Rzk19Xx6",
        "colab_type": "code",
        "outputId": "bf362c33-77d0-45af-cdb4-bc84346a8b8e",
        "colab": {
          "base_uri": "https://localhost:8080/",
          "height": 221
        }
      },
      "source": [
        "#tweets = data['Tweet']\n",
        "#labels = data['Category']\n",
        "#tweets.shape\n",
        "tweets_text=data.drop(['Category'], axis=1)\n",
        "tweets_text.head()\n",
        "print(len(data))"
      ],
      "execution_count": 0,
      "outputs": [
        {
          "output_type": "execute_result",
          "data": {
            "text/html": [
              "<div>\n",
              "<style scoped>\n",
              "    .dataframe tbody tr th:only-of-type {\n",
              "        vertical-align: middle;\n",
              "    }\n",
              "\n",
              "    .dataframe tbody tr th {\n",
              "        vertical-align: top;\n",
              "    }\n",
              "\n",
              "    .dataframe thead th {\n",
              "        text-align: right;\n",
              "    }\n",
              "</style>\n",
              "<table border=\"1\" class=\"dataframe\">\n",
              "  <thead>\n",
              "    <tr style=\"text-align: right;\">\n",
              "      <th></th>\n",
              "      <th>Tweets</th>\n",
              "    </tr>\n",
              "  </thead>\n",
              "  <tbody>\n",
              "    <tr>\n",
              "      <th>0</th>\n",
              "      <td>Our Top Pick of The Best Parking Mode Dash Cam...</td>\n",
              "    </tr>\n",
              "    <tr>\n",
              "      <th>1</th>\n",
              "      <td>Still watching #Russian #dashcam compilations ...</td>\n",
              "    </tr>\n",
              "    <tr>\n",
              "      <th>2</th>\n",
              "      <td>Check out this great travel dash cam for your ...</td>\n",
              "    </tr>\n",
              "    <tr>\n",
              "      <th>3</th>\n",
              "      <td>Shortcut! #trafficcircle #dashcam https://t.co...</td>\n",
              "    </tr>\n",
              "    <tr>\n",
              "      <th>4</th>\n",
              "      <td>Our DMS alarms include:①Closed Eyes②Yawning③In...</td>\n",
              "    </tr>\n",
              "  </tbody>\n",
              "</table>\n",
              "</div>"
            ],
            "text/plain": [
              "                                              Tweets\n",
              "0  Our Top Pick of The Best Parking Mode Dash Cam...\n",
              "1  Still watching #Russian #dashcam compilations ...\n",
              "2  Check out this great travel dash cam for your ...\n",
              "3  Shortcut! #trafficcircle #dashcam https://t.co...\n",
              "4  Our DMS alarms include:①Closed Eyes②Yawning③In..."
            ]
          },
          "metadata": {
            "tags": []
          },
          "execution_count": 10
        },
        {
          "output_type": "stream",
          "text": [
            "207\n"
          ],
          "name": "stdout"
        }
      ]
    },
    {
      "cell_type": "markdown",
      "metadata": {
        "id": "nDeF_VI0K6lD",
        "colab_type": "text"
      },
      "source": [
        "**3.   Data Preprocessing**"
      ]
    },
    {
      "cell_type": "code",
      "metadata": {
        "id": "so_NF0bK9bUz",
        "colab_type": "code",
        "outputId": "fe15c08b-b07a-4f7a-d414-789b6904e618",
        "colab": {
          "base_uri": "https://localhost:8080/",
          "height": 102
        }
      },
      "source": [
        "import nltk\n",
        "nltk.download('stopwords')\n",
        "nltk.download('wordnet')\n",
        "from nltk.stem.porter import PorterStemmer\n",
        "from nltk.stem import WordNetLemmatizer\n",
        "from nltk.corpus import stopwords"
      ],
      "execution_count": 0,
      "outputs": [
        {
          "output_type": "stream",
          "text": [
            "[nltk_data] Downloading package stopwords to /root/nltk_data...\n",
            "[nltk_data]   Package stopwords is already up-to-date!\n"
          ],
          "name": "stdout"
        },
        {
          "output_type": "execute_result",
          "data": {
            "text/plain": [
              "True"
            ]
          },
          "metadata": {
            "tags": []
          },
          "execution_count": 11
        },
        {
          "output_type": "stream",
          "text": [
            "[nltk_data] Downloading package wordnet to /root/nltk_data...\n",
            "[nltk_data]   Package wordnet is already up-to-date!\n"
          ],
          "name": "stdout"
        },
        {
          "output_type": "execute_result",
          "data": {
            "text/plain": [
              "True"
            ]
          },
          "metadata": {
            "tags": []
          },
          "execution_count": 11
        }
      ]
    },
    {
      "cell_type": "code",
      "metadata": {
        "id": "_COLdAJG9eVu",
        "colab_type": "code",
        "colab": {}
      },
      "source": [
        "processed_features = []\n",
        "\n",
        "for sentence in range(0, len(tweets_text)):\n",
        "    # Remove all the special characters\n",
        "    processed_feature = re.sub(r'\\W', ' ', data.Tweets[sentence])\n",
        "\n",
        "    # remove all single characters\n",
        "    processed_feature= re.sub(r'\\s+[a-zA-Z]\\s+', ' ', processed_feature)\n",
        "\n",
        "    # Remove single characters from the start\n",
        "    processed_feature = re.sub(r'\\^[a-zA-Z]\\s+', ' ', processed_feature) \n",
        "\n",
        "    # Substituting multiple spaces with single space\n",
        "    processed_feature = re.sub(r'\\s+', ' ', processed_feature, flags=re.I)\n",
        "\n",
        "    # Removing prefixed 'b'\n",
        "    processed_feature = re.sub(r'^b\\s+', '', processed_feature)\n",
        "\n",
        "    # Converting to Lowercase\n",
        "    processed_feature = processed_feature.lower()\n",
        "\n",
        "    processed_features.append(processed_feature)"
      ],
      "execution_count": 0,
      "outputs": []
    },
    {
      "cell_type": "code",
      "metadata": {
        "id": "J307UO7K9ty-",
        "colab_type": "code",
        "colab": {}
      },
      "source": [
        "corpus = [] # form an empty list called corpus\n",
        "ps = PorterStemmer() # for stemming the words to original form, for example - \"running to run\"\n",
        "stop_words = set(stopwords.words('english')) # remove words such as will, I, and, at etc.\n",
        "for i in range(0,len(tweets_text)): # iterate through the list of 1000 tweets\n",
        "  # remove handles (@), numbers, urls, emojis and any other special characters to have only text\n",
        "  tweets_text_cln = re.sub(\"(@[A-Za-z0-9]+)|([^0-9A-Za-z \\t])|(\\w+:\\/\\/\\S+)|[0-9]\", '',data.Tweets[i])\n",
        "  # convert all words to lower case\n",
        "  tweets_text_cln = tweets_text_cln.lower()\n",
        "  # split sentences into words\n",
        "  tweets_text_cln = tweets_text_cln.split()\n",
        "  # remove English stop words\n",
        "  tweets_text_cln = [x for x in tweets_text_cln if not x in stop_words]\n",
        "  # stem words to the base form\n",
        "  #tweets_text_cln = [ps.stem(x) for x in tweets_text_cln]\n",
        "  # join words to form the original sentences\n",
        "  tweets_text_cln = \" \".join(tweets_text_cln)\n",
        "  # append to the list to get all Tweets in one place\n",
        "  corpus.append(tweets_text_cln)\n",
        "#print(corpus) "
      ],
      "execution_count": 0,
      "outputs": []
    },
    {
      "cell_type": "code",
      "metadata": {
        "id": "Uc0LzrK19w9B",
        "colab_type": "code",
        "colab": {}
      },
      "source": [
        "bagofwords=[]\n",
        "for i in range (0,207):\n",
        "    words = corpus[i].split()\n",
        "    bagofwords.append(words)"
      ],
      "execution_count": 0,
      "outputs": []
    },
    {
      "cell_type": "code",
      "metadata": {
        "id": "PgCh_V5f90gr",
        "colab_type": "code",
        "outputId": "55bae979-6d84-457f-9a12-de8ec28acf26",
        "colab": {
          "base_uri": "https://localhost:8080/",
          "height": 34
        }
      },
      "source": [
        "bagofwords[0]"
      ],
      "execution_count": 0,
      "outputs": [
        {
          "output_type": "execute_result",
          "data": {
            "text/plain": [
              "['top', 'pick', 'best', 'parking', 'mode', 'dash', 'cams', 'dashcam']"
            ]
          },
          "metadata": {
            "tags": []
          },
          "execution_count": 15
        }
      ]
    },
    {
      "cell_type": "code",
      "metadata": {
        "id": "Y6lFg0nu93bX",
        "colab_type": "code",
        "outputId": "ba361081-f6a2-4019-9614-bbf6528d32f9",
        "colab": {
          "base_uri": "https://localhost:8080/",
          "height": 425
        }
      },
      "source": [
        "import itertools\n",
        "import collections\n",
        "all_words=list(itertools.chain(*bagofwords))\n",
        "print(all_words[0:10])\n",
        "print()\n",
        "print('Most commonly occuring words and frequency\\n')\n",
        "words_freq=collections.Counter(all_words)\n",
        "words_freq.most_common(20)"
      ],
      "execution_count": 0,
      "outputs": [
        {
          "output_type": "stream",
          "text": [
            "['top', 'pick', 'best', 'parking', 'mode', 'dash', 'cams', 'dashcam', 'still', 'watching']\n",
            "\n",
            "Most commonly occuring words and frequency\n",
            "\n"
          ],
          "name": "stdout"
        },
        {
          "output_type": "execute_result",
          "data": {
            "text/plain": [
              "[('dashcam', 117),\n",
              " ('dash', 71),\n",
              " ('cam', 58),\n",
              " ('great', 46),\n",
              " ('driving', 42),\n",
              " ('check', 40),\n",
              " ('travel', 39),\n",
              " ('journey', 38),\n",
              " ('ease', 35),\n",
              " ('worries', 30),\n",
              " ('car', 20),\n",
              " ('camera', 18),\n",
              " ('via', 15),\n",
              " ('p', 15),\n",
              " ('one', 12),\n",
              " ('driver', 12),\n",
              " ('video', 10),\n",
              " ('road', 10),\n",
              " ('footage', 10),\n",
              " ('new', 9)]"
            ]
          },
          "metadata": {
            "tags": []
          },
          "execution_count": 16
        }
      ]
    },
    {
      "cell_type": "code",
      "metadata": {
        "id": "Fx84YY9p97nS",
        "colab_type": "code",
        "outputId": "76dca41f-dbf4-4c57-bc10-608340b809dd",
        "colab": {
          "base_uri": "https://localhost:8080/",
          "height": 204
        }
      },
      "source": [
        "freq_word_df = pd.DataFrame(words_freq.most_common(20),columns=['words','Freq'])\n",
        "freq_word_df.head()"
      ],
      "execution_count": 0,
      "outputs": [
        {
          "output_type": "execute_result",
          "data": {
            "text/html": [
              "<div>\n",
              "<style scoped>\n",
              "    .dataframe tbody tr th:only-of-type {\n",
              "        vertical-align: middle;\n",
              "    }\n",
              "\n",
              "    .dataframe tbody tr th {\n",
              "        vertical-align: top;\n",
              "    }\n",
              "\n",
              "    .dataframe thead th {\n",
              "        text-align: right;\n",
              "    }\n",
              "</style>\n",
              "<table border=\"1\" class=\"dataframe\">\n",
              "  <thead>\n",
              "    <tr style=\"text-align: right;\">\n",
              "      <th></th>\n",
              "      <th>words</th>\n",
              "      <th>Freq</th>\n",
              "    </tr>\n",
              "  </thead>\n",
              "  <tbody>\n",
              "    <tr>\n",
              "      <th>0</th>\n",
              "      <td>dashcam</td>\n",
              "      <td>117</td>\n",
              "    </tr>\n",
              "    <tr>\n",
              "      <th>1</th>\n",
              "      <td>dash</td>\n",
              "      <td>71</td>\n",
              "    </tr>\n",
              "    <tr>\n",
              "      <th>2</th>\n",
              "      <td>cam</td>\n",
              "      <td>58</td>\n",
              "    </tr>\n",
              "    <tr>\n",
              "      <th>3</th>\n",
              "      <td>great</td>\n",
              "      <td>46</td>\n",
              "    </tr>\n",
              "    <tr>\n",
              "      <th>4</th>\n",
              "      <td>driving</td>\n",
              "      <td>42</td>\n",
              "    </tr>\n",
              "  </tbody>\n",
              "</table>\n",
              "</div>"
            ],
            "text/plain": [
              "     words  Freq\n",
              "0  dashcam   117\n",
              "1     dash    71\n",
              "2      cam    58\n",
              "3    great    46\n",
              "4  driving    42"
            ]
          },
          "metadata": {
            "tags": []
          },
          "execution_count": 17
        }
      ]
    },
    {
      "cell_type": "code",
      "metadata": {
        "id": "9Wop1m---BNG",
        "colab_type": "code",
        "outputId": "b2874c2f-5292-4bb8-96fa-3dbf45aabbd7",
        "colab": {
          "base_uri": "https://localhost:8080/",
          "height": 592
        }
      },
      "source": [
        "fig,ax=plt.subplots(figsize=(15,10))\n",
        "freq_word_df.sort_values(by='Freq').plot.barh(x='words',y='Freq',ax=ax,color='red')\n",
        "plt.show();"
      ],
      "execution_count": 0,
      "outputs": [
        {
          "output_type": "display_data",
          "data": {
            "image/png": "[encoded data removed]",
            "text/plain": [
              "<Figure size 1080x720 with 1 Axes>"
            ]
          },
          "metadata": {
            "tags": [],
            "needs_background": "light"
          }
        }
      ]
    },
    {
      "cell_type": "code",
      "metadata": {
        "id": "J2CAKA-j-EkM",
        "colab_type": "code",
        "colab": {}
      },
      "source": [
        "from wordcloud import WordCloud,STOPWORDS\n",
        "import matplotlib.pyplot as plt\n",
        "word_string=' '.join(freq_word_df.words)\n",
        "wordcloud=WordCloud(#stopwords=STOPWORDS,\n",
        "                       background_color='white',\n",
        "                     max_words=20\n",
        "                      ).generate(word_string)"
      ],
      "execution_count": 0,
      "outputs": []
    },
    {
      "cell_type": "code",
      "metadata": {
        "id": "ru2_V1BF-IgE",
        "colab_type": "code",
        "outputId": "5a431d7f-859d-4e60-8f4f-72263e4d1046",
        "colab": {
          "base_uri": "https://localhost:8080/",
          "height": 466
        }
      },
      "source": [
        "plt.figure(figsize=(15,10))\n",
        "plt.clf()\n",
        "plt.imshow(wordcloud)\n",
        "plt.axis('off')\n",
        "plt.show()"
      ],
      "execution_count": 0,
      "outputs": [
        {
          "output_type": "execute_result",
          "data": {
            "text/plain": [
              "<Figure size 1080x720 with 0 Axes>"
            ]
          },
          "metadata": {
            "tags": []
          },
          "execution_count": 20
        },
        {
          "output_type": "execute_result",
          "data": {
            "text/plain": [
              "<matplotlib.image.AxesImage at 0x7fe7962052b0>"
            ]
          },
          "metadata": {
            "tags": []
          },
          "execution_count": 20
        },
        {
          "output_type": "execute_result",
          "data": {
            "text/plain": [
              "(-0.5, 399.5, 199.5, -0.5)"
            ]
          },
          "metadata": {
            "tags": []
          },
          "execution_count": 20
        },
        {
          "output_type": "display_data",
          "data": {
            "image/png": "[encoded data removed]",
            "text/plain": [
              "<Figure size 1080x720 with 1 Axes>"
            ]
          },
          "metadata": {
            "tags": [],
            "needs_background": "light"
          }
        }
      ]
    },
    {
      "cell_type": "code",
      "metadata": {
        "id": "5rIzYBTj-gCx",
        "colab_type": "code",
        "outputId": "72db2e5c-3bb0-4c6b-b345-7bb05d823a71",
        "colab": {
          "base_uri": "https://localhost:8080/",
          "height": 51
        }
      },
      "source": [
        "from textblob import TextBlob\n",
        "sentiment_text=[TextBlob(tweet) for tweet in corpus]\n",
        "print(sentiment_text[0].polarity)\n",
        "print(sentiment_text[0])"
      ],
      "execution_count": 0,
      "outputs": [
        {
          "output_type": "stream",
          "text": [
            "0.75\n",
            "top pick best parking mode dash cams dashcam\n"
          ],
          "name": "stdout"
        }
      ]
    },
    {
      "cell_type": "code",
      "metadata": {
        "id": "K0GHFfJs-hTh",
        "colab_type": "code",
        "outputId": "1bea3974-dd78-41d2-d43c-84fbc393ec0c",
        "colab": {
          "base_uri": "https://localhost:8080/",
          "height": 419
        }
      },
      "source": [
        "sentiments = [[tweet.sentiment.polarity,str(tweet)] for tweet in sentiment_text]\n",
        "sentiment_df = pd.DataFrame(sentiments, columns=['polarity','Tweet_Text'])\n",
        "sentiment_df.sort_values(by='polarity',ascending=False)"
      ],
      "execution_count": 0,
      "outputs": [
        {
          "output_type": "execute_result",
          "data": {
            "text/html": [
              "<div>\n",
              "<style scoped>\n",
              "    .dataframe tbody tr th:only-of-type {\n",
              "        vertical-align: middle;\n",
              "    }\n",
              "\n",
              "    .dataframe tbody tr th {\n",
              "        vertical-align: top;\n",
              "    }\n",
              "\n",
              "    .dataframe thead th {\n",
              "        text-align: right;\n",
              "    }\n",
              "</style>\n",
              "<table border=\"1\" class=\"dataframe\">\n",
              "  <thead>\n",
              "    <tr style=\"text-align: right;\">\n",
              "      <th></th>\n",
              "      <th>polarity</th>\n",
              "      <th>Tweet_Text</th>\n",
              "    </tr>\n",
              "  </thead>\n",
              "  <tbody>\n",
              "    <tr>\n",
              "      <th>161</th>\n",
              "      <td>0.850</td>\n",
              "      <td>impressive quality recording dashcam dashcamer...</td>\n",
              "    </tr>\n",
              "    <tr>\n",
              "      <th>206</th>\n",
              "      <td>0.800</td>\n",
              "      <td>check great travel dash cam journey gstaad cra...</td>\n",
              "    </tr>\n",
              "    <tr>\n",
              "      <th>22</th>\n",
              "      <td>0.800</td>\n",
              "      <td>check great travel dash cam journey misawa tok...</td>\n",
              "    </tr>\n",
              "    <tr>\n",
              "      <th>153</th>\n",
              "      <td>0.800</td>\n",
              "      <td>check great travel dash cam journey durban gro...</td>\n",
              "    </tr>\n",
              "    <tr>\n",
              "      <th>25</th>\n",
              "      <td>0.800</td>\n",
              "      <td>drowsy distracted driving greatly increases ch...</td>\n",
              "    </tr>\n",
              "    <tr>\n",
              "      <th>...</th>\n",
              "      <td>...</td>\n",
              "      <td>...</td>\n",
              "    </tr>\n",
              "    <tr>\n",
              "      <th>50</th>\n",
              "      <td>-0.425</td>\n",
              "      <td>look dangerous uturn saw past wednesday missis...</td>\n",
              "    </tr>\n",
              "    <tr>\n",
              "      <th>107</th>\n",
              "      <td>-0.450</td>\n",
              "      <td>terrifying dashcam footage near miss car lorry...</td>\n",
              "    </tr>\n",
              "    <tr>\n",
              "      <th>137</th>\n",
              "      <td>-0.500</td>\n",
              "      <td>dashcam catches illegal alienarkansas man shoo...</td>\n",
              "    </tr>\n",
              "    <tr>\n",
              "      <th>69</th>\n",
              "      <td>-0.500</td>\n",
              "      <td>dashcam catches illegal alienarkansas man shoo...</td>\n",
              "    </tr>\n",
              "    <tr>\n",
              "      <th>110</th>\n",
              "      <td>-0.700</td>\n",
              "      <td>bad wouldnt thought dashon dashboard dashcam</td>\n",
              "    </tr>\n",
              "  </tbody>\n",
              "</table>\n",
              "<p>207 rows × 2 columns</p>\n",
              "</div>"
            ],
            "text/plain": [
              "     polarity                                         Tweet_Text\n",
              "161     0.850  impressive quality recording dashcam dashcamer...\n",
              "206     0.800  check great travel dash cam journey gstaad cra...\n",
              "22      0.800  check great travel dash cam journey misawa tok...\n",
              "153     0.800  check great travel dash cam journey durban gro...\n",
              "25      0.800  drowsy distracted driving greatly increases ch...\n",
              "..        ...                                                ...\n",
              "50     -0.425  look dangerous uturn saw past wednesday missis...\n",
              "107    -0.450  terrifying dashcam footage near miss car lorry...\n",
              "137    -0.500  dashcam catches illegal alienarkansas man shoo...\n",
              "69     -0.500  dashcam catches illegal alienarkansas man shoo...\n",
              "110    -0.700       bad wouldnt thought dashon dashboard dashcam\n",
              "\n",
              "[207 rows x 2 columns]"
            ]
          },
          "metadata": {
            "tags": []
          },
          "execution_count": 22
        }
      ]
    },
    {
      "cell_type": "code",
      "metadata": {
        "id": "oWowaL11-mML",
        "colab_type": "code",
        "outputId": "91c091b8-1e04-4733-a0d3-3eeeb355baa4",
        "colab": {
          "base_uri": "https://localhost:8080/",
          "height": 641
        }
      },
      "source": [
        "fig,ax = plt.subplots(figsize=(15,10))\n",
        "sentiment_df.hist(bins=[-1,-0.75,-0.5,-0.25,0.25,0.5,0.75,1], ax=ax, color='red')\n",
        "plt.title('Sentiments Distribution in Tweet data')\n",
        "plt.show()"
      ],
      "execution_count": 0,
      "outputs": [
        {
          "output_type": "execute_result",
          "data": {
            "text/plain": [
              "array([<matplotlib.axes._subplots.AxesSubplot object at 0x7fe7947132b0>],\n",
              "      dtype=object)"
            ]
          },
          "metadata": {
            "tags": []
          },
          "execution_count": 23
        },
        {
          "output_type": "execute_result",
          "data": {
            "text/plain": [
              "Text(0.5, 1.0, 'Sentiments Distribution in Tweet data')"
            ]
          },
          "metadata": {
            "tags": []
          },
          "execution_count": 23
        },
        {
          "output_type": "display_data",
          "data": {
            "image/png": "[encoded data removed]",
            "text/plain": [
              "<Figure size 1080x720 with 1 Axes>"
            ]
          },
          "metadata": {
            "tags": [],
            "needs_background": "light"
          }
        }
      ]
    },
    {
      "cell_type": "markdown",
      "metadata": {
        "id": "SoWzv1DzLujF",
        "colab_type": "text"
      },
      "source": [
        "\n",
        "\n",
        "**4.   Lexicon Model**\n",
        "\n"
      ]
    },
    {
      "cell_type": "code",
      "metadata": {
        "id": "Fnm_lay2-pdZ",
        "colab_type": "code",
        "colab": {}
      },
      "source": [
        "lex_file = open(\"/content/AFINN-111.csv\",encoding='cp1252')"
      ],
      "execution_count": 0,
      "outputs": []
    },
    {
      "cell_type": "code",
      "metadata": {
        "id": "jpUjLKCO_UMu",
        "colab_type": "code",
        "colab": {}
      },
      "source": [
        "#Strip the records and create a word list for each tweet\n",
        "word_list = []\n",
        "for record in (corpus):# for record in (tweets):\n",
        "    #print(record)\n",
        "    words = []\n",
        "    tokens = record.split()\n",
        "    #print(tokens)\n",
        "    for token in tokens:\n",
        "        words.append(token.lower())\n",
        "    word_list.append(words)  \n",
        "    \n",
        "#word_list "
      ],
      "execution_count": 0,
      "outputs": []
    },
    {
      "cell_type": "code",
      "metadata": {
        "id": "LkGTHeo0_p1v",
        "colab_type": "code",
        "colab": {}
      },
      "source": [
        "lexicons = {}\n",
        "records = lex_file.readlines()\n",
        "for record in records:\n",
        "    #print(record) # line contains newline charecter\n",
        "    #print(record.rstrip('\\n').split(\",\")) - to remove new line charecter\n",
        "    lexicons[record.rstrip('\\n').split(\",\")[0]] = int(record.rstrip('\\n').split(\",\")[1])\n",
        "#print(lexicons)\n",
        "#lexicons[\"abandon\"]"
      ],
      "execution_count": 0,
      "outputs": []
    },
    {
      "cell_type": "code",
      "metadata": {
        "id": "ijTdAj4w_qX0",
        "colab_type": "code",
        "colab": {}
      },
      "source": [
        "strength = []\n",
        "for tweet in word_list:\n",
        "    score = 0\n",
        "    for word in tweet:\n",
        "        if word in (lexicons):\n",
        "            score = score + lexicons[word]\n",
        "    strength.append(score)"
      ],
      "execution_count": 0,
      "outputs": []
    },
    {
      "cell_type": "code",
      "metadata": {
        "id": "F6-ODJ_LBZeJ",
        "colab_type": "code",
        "colab": {}
      },
      "source": [
        "senti_matrix = pd.DataFrame(strength, data.Tweets)"
      ],
      "execution_count": 0,
      "outputs": []
    },
    {
      "cell_type": "code",
      "metadata": {
        "id": "PlhAndbABaNc",
        "colab_type": "code",
        "outputId": "0fe4ca4b-e977-45a6-f11d-efb7253a7e99",
        "colab": {
          "base_uri": "https://localhost:8080/",
          "height": 390
        }
      },
      "source": [
        "senti_matrix[0:10]"
      ],
      "execution_count": 0,
      "outputs": [
        {
          "output_type": "execute_result",
          "data": {
            "text/html": [
              "<div>\n",
              "<style scoped>\n",
              "    .dataframe tbody tr th:only-of-type {\n",
              "        vertical-align: middle;\n",
              "    }\n",
              "\n",
              "    .dataframe tbody tr th {\n",
              "        vertical-align: top;\n",
              "    }\n",
              "\n",
              "    .dataframe thead th {\n",
              "        text-align: right;\n",
              "    }\n",
              "</style>\n",
              "<table border=\"1\" class=\"dataframe\">\n",
              "  <thead>\n",
              "    <tr style=\"text-align: right;\">\n",
              "      <th></th>\n",
              "      <th>0</th>\n",
              "    </tr>\n",
              "    <tr>\n",
              "      <th>Tweets</th>\n",
              "      <th></th>\n",
              "    </tr>\n",
              "  </thead>\n",
              "  <tbody>\n",
              "    <tr>\n",
              "      <th>Our Top Pick of The Best Parking Mode Dash Cams - #dashcam</th>\n",
              "      <td>5</td>\n",
              "    </tr>\n",
              "    <tr>\n",
              "      <th>Still watching #Russian #dashcam compilations and “#meanwhileinrussia” videos? You're not alone:</th>\n",
              "      <td>-2</td>\n",
              "    </tr>\n",
              "    <tr>\n",
              "      <th>Check out this great travel dash cam for your journey to Brighton from Worthing and ease your driving worries…</th>\n",
              "      <td>5</td>\n",
              "    </tr>\n",
              "    <tr>\n",
              "      <th>Shortcut! #trafficcircle #dashcam https://t.co/JVp813qJsT</th>\n",
              "      <td>0</td>\n",
              "    </tr>\n",
              "    <tr>\n",
              "      <th>Our DMS alarms include:①Closed Eyes②Yawning③Inattention④Head Down⑤Calling⑥Smoking⑦Long Time Driving</th>\n",
              "      <td>0</td>\n",
              "    </tr>\n",
              "    <tr>\n",
              "      <th>Dash cam video shows the importance of having one in your car as scammer caught on camera: https://t.co/ppdtZazyi3… https://t.co/m7CxscqxeK</th>\n",
              "      <td>2</td>\n",
              "    </tr>\n",
              "    <tr>\n",
              "      <th>Check out this great travel dash cam for your journey to Tenby Pembrokeshire from Bridgend and ease your driving wo… https://t.co/2zooqBlCfy</th>\n",
              "      <td>5</td>\n",
              "    </tr>\n",
              "    <tr>\n",
              "      <th>When your friend invites you over for tea at her new house and she didn’t tell you she moved into a mansion in San… https://t.co/dY7aEhKC4E</th>\n",
              "      <td>0</td>\n",
              "    </tr>\n",
              "    <tr>\n",
              "      <th>Monash Freeway 30 mins ago. Australia where are you traffic cameras to catch these hoon drivers and keep our roads… https://t.co/s4WYnxgFcb</th>\n",
              "      <td>0</td>\n",
              "    </tr>\n",
              "    <tr>\n",
              "      <th>@lovedasauto @TorgutM @MailOnline @Sytner @BMW One less unsafe driver on the road. Too bad someone had to die first… https://t.co/MIHLpWctIK</th>\n",
              "      <td>-6</td>\n",
              "    </tr>\n",
              "  </tbody>\n",
              "</table>\n",
              "</div>"
            ],
            "text/plain": [
              "                                                    0\n",
              "Tweets                                               \n",
              "Our Top Pick of The Best Parking Mode Dash Cams...  5\n",
              "Still watching #Russian #dashcam compilations a... -2\n",
              "Check out this great travel dash cam for your j...  5\n",
              "Shortcut! #trafficcircle #dashcam https://t.co/...  0\n",
              "Our DMS alarms include:①Closed Eyes②Yawning③Ina...  0\n",
              "Dash cam video shows the importance of having o...  2\n",
              "Check out this great travel dash cam for your j...  5\n",
              "When your friend invites you over for tea at he...  0\n",
              "Monash Freeway 30 mins ago. Australia where are...  0\n",
              "@lovedasauto @TorgutM @MailOnline @Sytner @BMW ... -6"
            ]
          },
          "metadata": {
            "tags": []
          },
          "execution_count": 29
        }
      ]
    },
    {
      "cell_type": "markdown",
      "metadata": {
        "id": "rvuj9W6oMRXP",
        "colab_type": "text"
      },
      "source": [
        "\n",
        "\n",
        "**5.   Vectorizing our data set using TF-IDF**\n",
        "\n",
        "\n"
      ]
    },
    {
      "cell_type": "code",
      "metadata": {
        "id": "vCosYWZfCm9w",
        "colab_type": "code",
        "colab": {}
      },
      "source": [
        "from nltk.corpus import stopwords\n",
        "from sklearn.feature_extraction.text import TfidfVectorizer\n",
        "\n",
        "vectorizer = TfidfVectorizer (max_features=2500, min_df=7, max_df=0.8, stop_words=stopwords.words('english'))\n",
        "X = vectorizer.fit_transform(corpus).toarray()"
      ],
      "execution_count": 0,
      "outputs": []
    },
    {
      "cell_type": "code",
      "metadata": {
        "id": "4m5XOiUzCybi",
        "colab_type": "code",
        "outputId": "0538999c-7048-4098-c2bb-b1f92b932134",
        "colab": {
          "base_uri": "https://localhost:8080/",
          "height": 238
        }
      },
      "source": [
        "X"
      ],
      "execution_count": 0,
      "outputs": [
        {
          "output_type": "execute_result",
          "data": {
            "text/plain": [
              "array([[0.        , 0.        , 0.        , ..., 0.        , 0.        ,\n",
              "        0.        ],\n",
              "       [0.        , 0.        , 0.        , ..., 0.        , 0.        ,\n",
              "        0.        ],\n",
              "       [0.        , 0.29652324, 0.        , ..., 0.        , 0.        ,\n",
              "        0.37523437],\n",
              "       ...,\n",
              "       [0.        , 0.29652324, 0.        , ..., 0.        , 0.        ,\n",
              "        0.37523437],\n",
              "       [0.        , 0.        , 0.        , ..., 0.        , 0.        ,\n",
              "        0.        ],\n",
              "       [0.        , 0.29652324, 0.        , ..., 0.        , 0.        ,\n",
              "        0.37523437]])"
            ]
          },
          "metadata": {
            "tags": []
          },
          "execution_count": 31
        }
      ]
    },
    {
      "cell_type": "code",
      "metadata": {
        "id": "Js7U6rSyC0tN",
        "colab_type": "code",
        "colab": {}
      },
      "source": [
        "y=data.Category"
      ],
      "execution_count": 0,
      "outputs": []
    },
    {
      "cell_type": "markdown",
      "metadata": {
        "id": "93iLCgS3NOyG",
        "colab_type": "text"
      },
      "source": [
        "\n",
        "\n",
        "**6.   Model/Algorithm Comparison**\n",
        "\n",
        "\n"
      ]
    },
    {
      "cell_type": "code",
      "metadata": {
        "id": "Y1svfa8TByPo",
        "colab_type": "code",
        "colab": {}
      },
      "source": [
        "# Sk learn libraries\n",
        "from sklearn import model_selection\n",
        "from sklearn.linear_model import LogisticRegression\n",
        "from sklearn.tree import DecisionTreeClassifier\n",
        "from sklearn.neighbors import KNeighborsClassifier\n",
        "from sklearn.discriminant_analysis import LinearDiscriminantAnalysis\n",
        "from sklearn.naive_bayes import GaussianNB\n",
        "from sklearn.svm import SVC\n",
        "from sklearn.ensemble import RandomForestClassifier"
      ],
      "execution_count": 0,
      "outputs": []
    },
    {
      "cell_type": "code",
      "metadata": {
        "id": "3ErnUbI4BzaJ",
        "colab_type": "code",
        "colab": {}
      },
      "source": [
        "models = []\n",
        "models.append(('LR', LogisticRegression()))\n",
        "models.append(('LDA', LinearDiscriminantAnalysis()))\n",
        "models.append(('KNN', KNeighborsClassifier()))\n",
        "models.append(('CART', DecisionTreeClassifier()))\n",
        "models.append(('NB', GaussianNB()))\n",
        "models.append(('RFC', RandomForestClassifier()))"
      ],
      "execution_count": 0,
      "outputs": []
    },
    {
      "cell_type": "code",
      "metadata": {
        "id": "BrDj_nXUB2Sz",
        "colab_type": "code",
        "outputId": "9fd3af53-9eca-453c-b495-dde75fd4741e",
        "colab": {
          "base_uri": "https://localhost:8080/",
          "height": 343
        }
      },
      "source": [
        "results = []\n",
        "names = []\n",
        "scoring = 'accuracy'\n",
        "for name, model in models:\n",
        "    kfold = model_selection.KFold(n_splits=10, random_state=7)\n",
        "    cv_results = model_selection.cross_val_score(model, X, y, cv=kfold, scoring=scoring)\n",
        "    results.append(cv_results)\n",
        "    names.append(name)\n",
        "    msg = \"%s: %f (%f)\" % (name, cv_results.mean(), cv_results.std())\n",
        "    print(msg)"
      ],
      "execution_count": 0,
      "outputs": [
        {
          "output_type": "stream",
          "text": [
            "/usr/local/lib/python3.6/dist-packages/sklearn/model_selection/_split.py:296: FutureWarning: Setting a random_state has no effect since shuffle is False. This will raise an error in 0.24. You should leave random_state to its default (None), or set shuffle=True.\n",
            "  FutureWarning\n",
            "/usr/local/lib/python3.6/dist-packages/sklearn/model_selection/_split.py:296: FutureWarning: Setting a random_state has no effect since shuffle is False. This will raise an error in 0.24. You should leave random_state to its default (None), or set shuffle=True.\n",
            "  FutureWarning\n",
            "/usr/local/lib/python3.6/dist-packages/sklearn/model_selection/_split.py:296: FutureWarning: Setting a random_state has no effect since shuffle is False. This will raise an error in 0.24. You should leave random_state to its default (None), or set shuffle=True.\n",
            "  FutureWarning\n",
            "/usr/local/lib/python3.6/dist-packages/sklearn/model_selection/_split.py:296: FutureWarning: Setting a random_state has no effect since shuffle is False. This will raise an error in 0.24. You should leave random_state to its default (None), or set shuffle=True.\n",
            "  FutureWarning\n",
            "/usr/local/lib/python3.6/dist-packages/sklearn/model_selection/_split.py:296: FutureWarning: Setting a random_state has no effect since shuffle is False. This will raise an error in 0.24. You should leave random_state to its default (None), or set shuffle=True.\n",
            "  FutureWarning\n",
            "/usr/local/lib/python3.6/dist-packages/sklearn/model_selection/_split.py:296: FutureWarning: Setting a random_state has no effect since shuffle is False. This will raise an error in 0.24. You should leave random_state to its default (None), or set shuffle=True.\n",
            "  FutureWarning\n"
          ],
          "name": "stderr"
        },
        {
          "output_type": "stream",
          "text": [
            "LR: 0.527381 (0.088802)\n",
            "LDA: 0.517619 (0.084938)\n",
            "KNN: 0.532857 (0.121297)\n",
            "CART: 0.536429 (0.055144)\n",
            "NB: 0.393095 (0.149453)\n",
            "RFC: 0.546905 (0.094773)\n"
          ],
          "name": "stdout"
        }
      ]
    },
    {
      "cell_type": "code",
      "metadata": {
        "id": "tZMbmqZAB4ox",
        "colab_type": "code",
        "outputId": "f312da59-2931-4153-f24a-74f43a221d7d",
        "colab": {
          "base_uri": "https://localhost:8080/",
          "height": 1000
        }
      },
      "source": [
        "fig = plt.figure()\n",
        "fig.suptitle('Algorithm Comparison')\n",
        "ax = fig.add_subplot(111)\n",
        "plt.boxplot(results)\n",
        "ax.set_xticklabels(names)\n",
        "plt.show()"
      ],
      "execution_count": 0,
      "outputs": [
        {
          "output_type": "execute_result",
          "data": {
            "text/plain": [
              "Text(0.5, 0.98, 'Algorithm Comparison')"
            ]
          },
          "metadata": {
            "tags": []
          },
          "execution_count": 36
        },
        {
          "output_type": "execute_result",
          "data": {
            "text/plain": [
              "{'boxes': [<matplotlib.lines.Line2D at 0x7fe794871048>,\n",
              "  <matplotlib.lines.Line2D at 0x7fe79486b470>,\n",
              "  <matplotlib.lines.Line2D at 0x7fe7948e2908>,\n",
              "  <matplotlib.lines.Line2D at 0x7fe7948dbb38>,\n",
              "  <matplotlib.lines.Line2D at 0x7fe7948d5be0>,\n",
              "  <matplotlib.lines.Line2D at 0x7fe7948cee80>],\n",
              " 'caps': [<matplotlib.lines.Line2D at 0x7fe79486e4a8>,\n",
              "  <matplotlib.lines.Line2D at 0x7fe79486e0f0>,\n",
              "  <matplotlib.lines.Line2D at 0x7fe794865898>,\n",
              "  <matplotlib.lines.Line2D at 0x7fe7948654a8>,\n",
              "  <matplotlib.lines.Line2D at 0x7fe7948dec50>,\n",
              "  <matplotlib.lines.Line2D at 0x7fe7948de7f0>,\n",
              "  <matplotlib.lines.Line2D at 0x7fe7948d8d68>,\n",
              "  <matplotlib.lines.Line2D at 0x7fe7948d8860>,\n",
              "  <matplotlib.lines.Line2D at 0x7fe7948d1f98>,\n",
              "  <matplotlib.lines.Line2D at 0x7fe7948d1b38>,\n",
              "  <matplotlib.lines.Line2D at 0x7fe7948ce048>,\n",
              "  <matplotlib.lines.Line2D at 0x7fe7948ccbe0>],\n",
              " 'fliers': [<matplotlib.lines.Line2D at 0x7fe79486b828>,\n",
              "  <matplotlib.lines.Line2D at 0x7fe7948e2cf8>,\n",
              "  <matplotlib.lines.Line2D at 0x7fe7948dbf60>,\n",
              "  <matplotlib.lines.Line2D at 0x7fe7948d5f98>,\n",
              "  <matplotlib.lines.Line2D at 0x7fe7948d12e8>,\n",
              "  <matplotlib.lines.Line2D at 0x7fe7948cc470>],\n",
              " 'means': [],\n",
              " 'medians': [<matplotlib.lines.Line2D at 0x7fe79486bcc0>,\n",
              "  <matplotlib.lines.Line2D at 0x7fe7948650f0>,\n",
              "  <matplotlib.lines.Line2D at 0x7fe7948de358>,\n",
              "  <matplotlib.lines.Line2D at 0x7fe7948d83c8>,\n",
              "  <matplotlib.lines.Line2D at 0x7fe7948d1710>,\n",
              "  <matplotlib.lines.Line2D at 0x7fe7948cc828>],\n",
              " 'whiskers': [<matplotlib.lines.Line2D at 0x7fe79486ec88>,\n",
              "  <matplotlib.lines.Line2D at 0x7fe79486e898>,\n",
              "  <matplotlib.lines.Line2D at 0x7fe79486b0b8>,\n",
              "  <matplotlib.lines.Line2D at 0x7fe794865c88>,\n",
              "  <matplotlib.lines.Line2D at 0x7fe7948e24a8>,\n",
              "  <matplotlib.lines.Line2D at 0x7fe7948e20f0>,\n",
              "  <matplotlib.lines.Line2D at 0x7fe7948db6a0>,\n",
              "  <matplotlib.lines.Line2D at 0x7fe7948db240>,\n",
              "  <matplotlib.lines.Line2D at 0x7fe7948d5828>,\n",
              "  <matplotlib.lines.Line2D at 0x7fe7948d53c8>,\n",
              "  <matplotlib.lines.Line2D at 0x7fe7948ce9b0>,\n",
              "  <matplotlib.lines.Line2D at 0x7fe7948ce518>]}"
            ]
          },
          "metadata": {
            "tags": []
          },
          "execution_count": 36
        },
        {
          "output_type": "execute_result",
          "data": {
            "text/plain": [
              "[Text(0, 0, 'LR'),\n",
              " Text(0, 0, 'LDA'),\n",
              " Text(0, 0, 'KNN'),\n",
              " Text(0, 0, 'CART'),\n",
              " Text(0, 0, 'NB'),\n",
              " Text(0, 0, 'RFC')]"
            ]
          },
          "metadata": {
            "tags": []
          },
          "execution_count": 36
        },
        {
          "output_type": "display_data",
          "data": {
            "image/png": "[encoded data removed]",
            "text/plain": [
              "<Figure size 576x432 with 1 Axes>"
            ]
          },
          "metadata": {
            "tags": [],
            "needs_background": "light"
          }
        }
      ]
    }
  ]
}